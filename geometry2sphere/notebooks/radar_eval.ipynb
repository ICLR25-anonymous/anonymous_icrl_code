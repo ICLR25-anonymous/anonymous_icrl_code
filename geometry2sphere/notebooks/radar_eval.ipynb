{
 "cells": [
  {
   "cell_type": "code",
   "execution_count": 1,
   "id": "4edda66c-4400-40f7-a914-2b357573d7a6",
   "metadata": {},
   "outputs": [],
   "source": [
    "from g2s.models.geometry_2_sphere import Mesh2Radar\n",
    "from g2s.datasets.radar_dataset import RadarDataset\n",
    "from g2s.datasets.transforms.general import Compose\n",
    "from g2s.datasets.transforms.radar import Log, Abs, Normalize, Center\n",
    "from g2s.datasets.transforms.mesh import MeshNormalize\n",
    "\n",
    "import numpy as np\n",
    "import matplotlib.pyplot as plt\n",
    "from torch_harmonics import plotting\n",
    "from torch_geometric.loader import DataLoader\n",
    "import xarray\n",
    "import torch\n",
    "from torch import nn\n",
    "from pathlib import Path\n",
    "\n",
    "from hydra_zen import load_from_yaml, instantiate, get_target\n",
    "from mlflow import MlflowClient, set_tracking_uri"
   ]
  },
  {
   "cell_type": "code",
   "execution_count": 2,
   "id": "fb28c655-3bc2-4b73-81fc-4d7c30cf5ba5",
   "metadata": {},
   "outputs": [],
   "source": [
    "set_tracking_uri('geometry2sphere/datasets/out/mlflow')\n",
    "runs = MlflowClient().search_runs(\n",
    "    experiment_ids=\"711364059123036807\",\n",
    ")"
   ]
  },
  {
   "cell_type": "code",
   "execution_count": null,
   "id": "8ddc348b-db3a-43e2-80f2-e80ea601780f",
   "metadata": {},
   "outputs": [],
   "source": [
    "output_dir = runs[12].data.params['output_dir']\n",
    "cfg = load_from_yaml(str(list(Path(output_dir).glob(\"**/config.yaml\"))[0]))\n",
    "equiformer = get_target(cfg.module)\n",
    "equiformer = equiformer.load_from_checkpoint(\n",
    "    output_dir + '/last.ckpt',\n",
    "    backbone=instantiate(cfg.module.backbone),\n",
    "    criterion=instantiate(cfg.module.criterion),\n",
    "    optim=instantiate(cfg.module.optim),\n",
    ")"
   ]
  },
  {
   "cell_type": "code",
   "execution_count": null,
   "id": "d6f2f3e6-e562-4e9c-801e-29848b90bdac",
   "metadata": {},
   "outputs": [],
   "source": [
    "output_dir = runs[1].data.params['output_dir']\n",
    "cfg = load_from_yaml(str(list(Path(output_dir).glob(\"**/config.yaml\"))[0]))\n",
    "o2s = get_target(cfg.module)\n",
    "o2s = o2s.load_from_checkpoint(\n",
    "    output_dir + '/last.ckpt',\n",
    "    backbone=instantiate(cfg.module.backbone),\n",
    "    criterion=instantiate(cfg.module.criterion),\n",
    "    optim=instantiate(cfg.module.optim),\n",
    ")"
   ]
  },
  {
   "cell_type": "code",
   "execution_count": 4,
   "id": "2b86f67c-6b43-488a-bd64-7524f88e8f4d",
   "metadata": {},
   "outputs": [],
   "source": [
    "cfg = load_from_yaml(str(list(Path(output_dir).glob(\"**/config.yaml\"))[0]))\n",
    "test_ds_fp = 'geometry2sphere/datasets/radar_test.nc'\n",
    "ds = RadarDataset(\n",
    "    test_ds_fp,\n",
    "    'test',\n",
    "    seed=0,\n",
    "    transform=instantiate(cfg.test_dataset.transform),\n",
    "    shuffle_before_split=False,\n",
    "    mesh_mode='simple',\n",
    "    orientation_mode='full',\n",
    ")"
   ]
  },
  {
   "cell_type": "code",
   "execution_count": 5,
   "id": "beb9ce90-7a9c-450f-8392-02cd25442de1",
   "metadata": {},
   "outputs": [],
   "source": [
    "dl = DataLoader(ds, batch_size=2, num_workers=0, shuffle=True)\n",
    "itr = iter(dl)"
   ]
  },
  {
   "cell_type": "code",
   "execution_count": 6,
   "id": "5900cb59-8ce3-4b61-acc8-df3b35fb7673",
   "metadata": {},
   "outputs": [],
   "source": [
    "mesh, target  = next(itr)\n",
    "with torch.no_grad():\n",
    "    #equiformer_pred, _ = equiformer(mesh.cuda())\n",
    "    o2s_pred, w = o2s(mesh.cuda())"
   ]
  },
  {
   "cell_type": "code",
   "execution_count": 7,
   "id": "f48104e1-efdb-4e2e-8610-a4bb7869af1c",
   "metadata": {},
   "outputs": [
    {
     "name": "stdout",
     "output_type": "stream",
     "text": [
      "frame=0\n",
      "frame=10\n",
      "frame=20\n",
      "frame=30\n",
      "frame=40\n",
      "frame=50\n",
      "frame=60\n"
     ]
    }
   ],
   "source": [
    "import matplotlib.animation as animation\n",
    "\n",
    "fig = plt.figure(layout='constrained', figsize=(12, 8), dpi=72)\n",
    "subfigs = fig.subfigures(1, 2)\n",
    "\n",
    "moviewriter = animation.FFMpegWriter(fps=30)\n",
    "moviewriter.setup(fig, 'compare.mp4', dpi=72)\n",
    "\n",
    "b = 0\n",
    "num_frames = target.size(1)\n",
    "for frame in range(num_frames):\n",
    "    if frame % 10 == 0:\n",
    "        print(f\"frame={frame}\")\n",
    "    \n",
    "    plotting.plot_spherical_fn(\n",
    "        o2s_pred[b,frame].cpu().squeeze().numpy(), \n",
    "        fig=subfigs[0], \n",
    "        vmin=target[b].min(),\n",
    "        vmax=target[b].max(),\n",
    "        title=f\"R={frame}\",\n",
    "        colorbar=False\n",
    "    )\n",
    "    if False:\n",
    "        plotting.plot_spherical_fn(\n",
    "            equiformer_pred[b,frame].cpu().squeeze().numpy(), \n",
    "            fig=subfigs[1], \n",
    "            vmin=target[b].min(),\n",
    "            vmax=target[b].max(),\n",
    "            title=f\"R={frame}\",\n",
    "            colorbar=False\n",
    "        )\n",
    "    plotting.plot_spherical_fn(\n",
    "        target[b,frame].cpu().squeeze().numpy(), \n",
    "        fig=subfigs[1],\n",
    "        vmin=target[b].min(),\n",
    "        vmax=target[b].max(),\n",
    "        title=f\"R={frame}\",\n",
    "        colorbar=False\n",
    "    )\n",
    "\n",
    "    plt.draw()\n",
    "    moviewriter.grab_frame()\n",
    "    subfigs[0].clear()\n",
    "    subfigs[1].clear()\n",
    "    #subfigs[2].clear()\n",
    "\n",
    "moviewriter.finish()\n",
    "plt.close()"
   ]
  },
  {
   "cell_type": "markdown",
   "id": "a02dde91-d6c3-48e1-90d9-0a1c6d29e771",
   "metadata": {},
   "source": [
    "<video controls src=\"compare.mp4\" />"
   ]
  },
  {
   "cell_type": "markdown",
   "id": "587cc833-5715-44fa-b09a-482fda5e818e",
   "metadata": {},
   "source": [
    "<video controls src=\"compare.mp4\" />"
   ]
  },
  {
   "cell_type": "code",
   "execution_count": null,
   "id": "0b7d18c4-9c7d-4cef-8685-eb6345c27964",
   "metadata": {},
   "outputs": [],
   "source": [
    "error = torch.abs(target.cpu() - o2s_pred.cpu())"
   ]
  },
  {
   "cell_type": "code",
   "execution_count": null,
   "id": "a0ba09b0-b481-4925-b23e-0a89aa850376",
   "metadata": {},
   "outputs": [],
   "source": [
    "import matplotlib.animation as animation\n",
    "\n",
    "fig = plt.figure(layout='constrained', figsize=(12, 8), dpi=72)\n",
    "subfigs = fig.subfigures(1, 3)\n",
    "\n",
    "moviewriter = animation.FFMpegWriter(fps=30)\n",
    "moviewriter.setup(fig, 'error.mp4', dpi=72)\n",
    "\n",
    "b = 0\n",
    "num_frames = target.size(1)\n",
    "for frame in range(num_frames):\n",
    "    if frame % 10 == 0:\n",
    "        print(f\"frame={frame}\")\n",
    "    \n",
    "    plotting.plot_spherical_fn(\n",
    "        o2s_pred[b,frame].cpu().squeeze().numpy(), \n",
    "        fig=subfigs[0], \n",
    "        vmin=target[b].min(),\n",
    "        vmax=target[b].max(),\n",
    "        title=f\"R={frame}\"\n",
    "    )\n",
    "    plotting.plot_spherical_fn(\n",
    "        target[b,frame].cpu().squeeze().numpy(), \n",
    "        fig=subfigs[1], \n",
    "        vmin=target[b].min(),\n",
    "        vmax=target[b].max(),\n",
    "        title=f\"R={frame}\"\n",
    "    )\n",
    "    plotting.plot_spherical_fn(\n",
    "        error[b,frame].cpu().squeeze().numpy(), \n",
    "        fig=subfigs[2],\n",
    "        vmin=target[b].min(),\n",
    "        vmax=target[b].max(),\n",
    "        title=f\"R={frame}\"\n",
    "    )\n",
    "\n",
    "    plt.draw()\n",
    "    moviewriter.grab_frame()\n",
    "    subfigs[0].clear()\n",
    "    subfigs[1].clear()\n",
    "    subfigs[2].clear()\n",
    "\n",
    "moviewriter.finish()\n",
    "plt.close()"
   ]
  },
  {
   "cell_type": "markdown",
   "id": "74f2bf17-9b7e-402c-986d-93be4edb2cb4",
   "metadata": {},
   "source": [
    "<video controls src=\"error.mp4\" />"
   ]
  },
  {
   "cell_type": "code",
   "execution_count": null,
   "id": "58a4194b-3bdc-4ffd-b0bd-79f22c9cc3a1",
   "metadata": {},
   "outputs": [],
   "source": [
    "v,i = w[0,33].abs().sort(descending=True)"
   ]
  },
  {
   "cell_type": "code",
   "execution_count": null,
   "id": "6e01c76b-2395-4766-866e-c16d9270ad6a",
   "metadata": {},
   "outputs": [],
   "source": [
    "v[:10]"
   ]
  },
  {
   "cell_type": "code",
   "execution_count": null,
   "id": "9994a6d4-f422-4410-905b-265d835922ac",
   "metadata": {},
   "outputs": [],
   "source": [
    "i[:10]"
   ]
  },
  {
   "cell_type": "code",
   "execution_count": null,
   "id": "d97f9c07-57c7-4af3-b26c-b30190385c86",
   "metadata": {},
   "outputs": [],
   "source": [
    "[  0,   6,  20,  72, 156, 110,  42, 272, 506, 210]\n",
    "[4.9247, 1.4585, 0.8119, 0.5424, 0.4051, 0.3920, 0.3726, 0.2634, 0.2194, 0.2064]"
   ]
  }
 ],
 "metadata": {
  "kernelspec": {
   "display_name": "Python 3 (ipykernel)",
   "language": "python",
   "name": "python3"
  },
  "language_info": {
   "codemirror_mode": {
    "name": "ipython",
    "version": 3
   },
   "file_extension": ".py",
   "mimetype": "text/x-python",
   "name": "python",
   "nbconvert_exporter": "python",
   "pygments_lexer": "ipython3",
   "version": "3.10.14"
  }
 },
 "nbformat": 4,
 "nbformat_minor": 5
}
